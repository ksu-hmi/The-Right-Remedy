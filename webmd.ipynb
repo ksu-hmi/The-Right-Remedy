{
 "cells": [
  {
   "cell_type": "markdown",
   "source": [
    "Load Packages and Data"
   ],
   "metadata": {}
  },
  {
   "cell_type": "code",
   "execution_count": 1,
   "source": [
    "from IPython.display import HTML\n",
    "hidecode=HTML('''<script>\n",
    "code_show=true; \n",
    "function code_toggle() {\n",
    " if (code_show){\n",
    " $('div.input').hide();\n",
    " } else {\n",
    " $('div.input').show();\n",
    " }\n",
    " code_show = !code_show\n",
    "} \n",
    "$( document ).ready(code_toggle);\n",
    "</script>\n",
    "<form action=\"javascript:code_toggle()\"><input type=\"submit\" value=\"Click here to toggle on/off the raw code.\"></form>''')"
   ],
   "outputs": [],
   "metadata": {}
  },
  {
   "cell_type": "code",
   "execution_count": 2,
   "source": [
    "hidecode"
   ],
   "outputs": [
    {
     "output_type": "execute_result",
     "data": {
      "text/plain": [
       "<IPython.core.display.HTML object>"
      ],
      "text/html": [
       "<script>\n",
       "code_show=true; \n",
       "function code_toggle() {\n",
       " if (code_show){\n",
       " $('div.input').hide();\n",
       " } else {\n",
       " $('div.input').show();\n",
       " }\n",
       " code_show = !code_show\n",
       "} \n",
       "$( document ).ready(code_toggle);\n",
       "</script>\n",
       "<form action=\"javascript:code_toggle()\"><input type=\"submit\" value=\"Click here to toggle on/off the raw code.\"></form>"
      ]
     },
     "metadata": {},
     "execution_count": 2
    }
   ],
   "metadata": {}
  },
  {
   "cell_type": "code",
   "execution_count": 3,
   "source": [
    "%matplotlib inline\n",
    "import numpy as np\n",
    "import pandas as pd\n",
    "from scipy import stats\n",
    "from matplotlib import pyplot as plt\n",
    "import seaborn as sns\n",
    "import nltk\n",
    "import re\n",
    "from ipywidgets import interact, interactive, fixed, HBox, widgets\n",
    "from collections import Counter\n",
    "import operator"
   ],
   "outputs": [],
   "metadata": {}
  },
  {
   "cell_type": "code",
   "execution_count": 8,
   "source": [
    "df = pd.read_csv('webmd1.csv')"
   ],
   "outputs": [
    {
     "output_type": "error",
     "ename": "FileNotFoundError",
     "evalue": "[Errno 2] No such file or directory: 'webmd1.csv'",
     "traceback": [
      "\u001b[0;31m---------------------------------------------------------------------------\u001b[0m",
      "\u001b[0;31mFileNotFoundError\u001b[0m                         Traceback (most recent call last)",
      "\u001b[0;32m<ipython-input-8-53340acc746c>\u001b[0m in \u001b[0;36m<module>\u001b[0;34m\u001b[0m\n\u001b[0;32m----> 1\u001b[0;31m \u001b[0mdf\u001b[0m \u001b[0;34m=\u001b[0m \u001b[0mpd\u001b[0m\u001b[0;34m.\u001b[0m\u001b[0mread_csv\u001b[0m\u001b[0;34m(\u001b[0m\u001b[0;34m'webmd1.csv'\u001b[0m\u001b[0;34m)\u001b[0m\u001b[0;34m\u001b[0m\u001b[0;34m\u001b[0m\u001b[0m\n\u001b[0m",
      "\u001b[0;32m/opt/anaconda3/lib/python3.8/site-packages/pandas/io/parsers.py\u001b[0m in \u001b[0;36mread_csv\u001b[0;34m(filepath_or_buffer, sep, delimiter, header, names, index_col, usecols, squeeze, prefix, mangle_dupe_cols, dtype, engine, converters, true_values, false_values, skipinitialspace, skiprows, skipfooter, nrows, na_values, keep_default_na, na_filter, verbose, skip_blank_lines, parse_dates, infer_datetime_format, keep_date_col, date_parser, dayfirst, cache_dates, iterator, chunksize, compression, thousands, decimal, lineterminator, quotechar, quoting, doublequote, escapechar, comment, encoding, dialect, error_bad_lines, warn_bad_lines, delim_whitespace, low_memory, memory_map, float_precision, storage_options)\u001b[0m\n\u001b[1;32m    608\u001b[0m     \u001b[0mkwds\u001b[0m\u001b[0;34m.\u001b[0m\u001b[0mupdate\u001b[0m\u001b[0;34m(\u001b[0m\u001b[0mkwds_defaults\u001b[0m\u001b[0;34m)\u001b[0m\u001b[0;34m\u001b[0m\u001b[0;34m\u001b[0m\u001b[0m\n\u001b[1;32m    609\u001b[0m \u001b[0;34m\u001b[0m\u001b[0m\n\u001b[0;32m--> 610\u001b[0;31m     \u001b[0;32mreturn\u001b[0m \u001b[0m_read\u001b[0m\u001b[0;34m(\u001b[0m\u001b[0mfilepath_or_buffer\u001b[0m\u001b[0;34m,\u001b[0m \u001b[0mkwds\u001b[0m\u001b[0;34m)\u001b[0m\u001b[0;34m\u001b[0m\u001b[0;34m\u001b[0m\u001b[0m\n\u001b[0m\u001b[1;32m    611\u001b[0m \u001b[0;34m\u001b[0m\u001b[0m\n\u001b[1;32m    612\u001b[0m \u001b[0;34m\u001b[0m\u001b[0m\n",
      "\u001b[0;32m/opt/anaconda3/lib/python3.8/site-packages/pandas/io/parsers.py\u001b[0m in \u001b[0;36m_read\u001b[0;34m(filepath_or_buffer, kwds)\u001b[0m\n\u001b[1;32m    460\u001b[0m \u001b[0;34m\u001b[0m\u001b[0m\n\u001b[1;32m    461\u001b[0m     \u001b[0;31m# Create the parser.\u001b[0m\u001b[0;34m\u001b[0m\u001b[0;34m\u001b[0m\u001b[0;34m\u001b[0m\u001b[0m\n\u001b[0;32m--> 462\u001b[0;31m     \u001b[0mparser\u001b[0m \u001b[0;34m=\u001b[0m \u001b[0mTextFileReader\u001b[0m\u001b[0;34m(\u001b[0m\u001b[0mfilepath_or_buffer\u001b[0m\u001b[0;34m,\u001b[0m \u001b[0;34m**\u001b[0m\u001b[0mkwds\u001b[0m\u001b[0;34m)\u001b[0m\u001b[0;34m\u001b[0m\u001b[0;34m\u001b[0m\u001b[0m\n\u001b[0m\u001b[1;32m    463\u001b[0m \u001b[0;34m\u001b[0m\u001b[0m\n\u001b[1;32m    464\u001b[0m     \u001b[0;32mif\u001b[0m \u001b[0mchunksize\u001b[0m \u001b[0;32mor\u001b[0m \u001b[0miterator\u001b[0m\u001b[0;34m:\u001b[0m\u001b[0;34m\u001b[0m\u001b[0;34m\u001b[0m\u001b[0m\n",
      "\u001b[0;32m/opt/anaconda3/lib/python3.8/site-packages/pandas/io/parsers.py\u001b[0m in \u001b[0;36m__init__\u001b[0;34m(self, f, engine, **kwds)\u001b[0m\n\u001b[1;32m    817\u001b[0m             \u001b[0mself\u001b[0m\u001b[0;34m.\u001b[0m\u001b[0moptions\u001b[0m\u001b[0;34m[\u001b[0m\u001b[0;34m\"has_index_names\"\u001b[0m\u001b[0;34m]\u001b[0m \u001b[0;34m=\u001b[0m \u001b[0mkwds\u001b[0m\u001b[0;34m[\u001b[0m\u001b[0;34m\"has_index_names\"\u001b[0m\u001b[0;34m]\u001b[0m\u001b[0;34m\u001b[0m\u001b[0;34m\u001b[0m\u001b[0m\n\u001b[1;32m    818\u001b[0m \u001b[0;34m\u001b[0m\u001b[0m\n\u001b[0;32m--> 819\u001b[0;31m         \u001b[0mself\u001b[0m\u001b[0;34m.\u001b[0m\u001b[0m_engine\u001b[0m \u001b[0;34m=\u001b[0m \u001b[0mself\u001b[0m\u001b[0;34m.\u001b[0m\u001b[0m_make_engine\u001b[0m\u001b[0;34m(\u001b[0m\u001b[0mself\u001b[0m\u001b[0;34m.\u001b[0m\u001b[0mengine\u001b[0m\u001b[0;34m)\u001b[0m\u001b[0;34m\u001b[0m\u001b[0;34m\u001b[0m\u001b[0m\n\u001b[0m\u001b[1;32m    820\u001b[0m \u001b[0;34m\u001b[0m\u001b[0m\n\u001b[1;32m    821\u001b[0m     \u001b[0;32mdef\u001b[0m \u001b[0mclose\u001b[0m\u001b[0;34m(\u001b[0m\u001b[0mself\u001b[0m\u001b[0;34m)\u001b[0m\u001b[0;34m:\u001b[0m\u001b[0;34m\u001b[0m\u001b[0;34m\u001b[0m\u001b[0m\n",
      "\u001b[0;32m/opt/anaconda3/lib/python3.8/site-packages/pandas/io/parsers.py\u001b[0m in \u001b[0;36m_make_engine\u001b[0;34m(self, engine)\u001b[0m\n\u001b[1;32m   1048\u001b[0m             )\n\u001b[1;32m   1049\u001b[0m         \u001b[0;31m# error: Too many arguments for \"ParserBase\"\u001b[0m\u001b[0;34m\u001b[0m\u001b[0;34m\u001b[0m\u001b[0;34m\u001b[0m\u001b[0m\n\u001b[0;32m-> 1050\u001b[0;31m         \u001b[0;32mreturn\u001b[0m \u001b[0mmapping\u001b[0m\u001b[0;34m[\u001b[0m\u001b[0mengine\u001b[0m\u001b[0;34m]\u001b[0m\u001b[0;34m(\u001b[0m\u001b[0mself\u001b[0m\u001b[0;34m.\u001b[0m\u001b[0mf\u001b[0m\u001b[0;34m,\u001b[0m \u001b[0;34m**\u001b[0m\u001b[0mself\u001b[0m\u001b[0;34m.\u001b[0m\u001b[0moptions\u001b[0m\u001b[0;34m)\u001b[0m  \u001b[0;31m# type: ignore[call-arg]\u001b[0m\u001b[0;34m\u001b[0m\u001b[0;34m\u001b[0m\u001b[0m\n\u001b[0m\u001b[1;32m   1051\u001b[0m \u001b[0;34m\u001b[0m\u001b[0m\n\u001b[1;32m   1052\u001b[0m     \u001b[0;32mdef\u001b[0m \u001b[0m_failover_to_python\u001b[0m\u001b[0;34m(\u001b[0m\u001b[0mself\u001b[0m\u001b[0;34m)\u001b[0m\u001b[0;34m:\u001b[0m\u001b[0;34m\u001b[0m\u001b[0;34m\u001b[0m\u001b[0m\n",
      "\u001b[0;32m/opt/anaconda3/lib/python3.8/site-packages/pandas/io/parsers.py\u001b[0m in \u001b[0;36m__init__\u001b[0;34m(self, src, **kwds)\u001b[0m\n\u001b[1;32m   1865\u001b[0m \u001b[0;34m\u001b[0m\u001b[0m\n\u001b[1;32m   1866\u001b[0m         \u001b[0;31m# open handles\u001b[0m\u001b[0;34m\u001b[0m\u001b[0;34m\u001b[0m\u001b[0;34m\u001b[0m\u001b[0m\n\u001b[0;32m-> 1867\u001b[0;31m         \u001b[0mself\u001b[0m\u001b[0;34m.\u001b[0m\u001b[0m_open_handles\u001b[0m\u001b[0;34m(\u001b[0m\u001b[0msrc\u001b[0m\u001b[0;34m,\u001b[0m \u001b[0mkwds\u001b[0m\u001b[0;34m)\u001b[0m\u001b[0;34m\u001b[0m\u001b[0;34m\u001b[0m\u001b[0m\n\u001b[0m\u001b[1;32m   1868\u001b[0m         \u001b[0;32massert\u001b[0m \u001b[0mself\u001b[0m\u001b[0;34m.\u001b[0m\u001b[0mhandles\u001b[0m \u001b[0;32mis\u001b[0m \u001b[0;32mnot\u001b[0m \u001b[0;32mNone\u001b[0m\u001b[0;34m\u001b[0m\u001b[0;34m\u001b[0m\u001b[0m\n\u001b[1;32m   1869\u001b[0m         \u001b[0;32mfor\u001b[0m \u001b[0mkey\u001b[0m \u001b[0;32min\u001b[0m \u001b[0;34m(\u001b[0m\u001b[0;34m\"storage_options\"\u001b[0m\u001b[0;34m,\u001b[0m \u001b[0;34m\"encoding\"\u001b[0m\u001b[0;34m,\u001b[0m \u001b[0;34m\"memory_map\"\u001b[0m\u001b[0;34m,\u001b[0m \u001b[0;34m\"compression\"\u001b[0m\u001b[0;34m)\u001b[0m\u001b[0;34m:\u001b[0m\u001b[0;34m\u001b[0m\u001b[0;34m\u001b[0m\u001b[0m\n",
      "\u001b[0;32m/opt/anaconda3/lib/python3.8/site-packages/pandas/io/parsers.py\u001b[0m in \u001b[0;36m_open_handles\u001b[0;34m(self, src, kwds)\u001b[0m\n\u001b[1;32m   1360\u001b[0m         \u001b[0mLet\u001b[0m \u001b[0mthe\u001b[0m \u001b[0mreaders\u001b[0m \u001b[0mopen\u001b[0m \u001b[0mIOHanldes\u001b[0m \u001b[0mafter\u001b[0m \u001b[0mthey\u001b[0m \u001b[0mare\u001b[0m \u001b[0mdone\u001b[0m \u001b[0;32mwith\u001b[0m \u001b[0mtheir\u001b[0m \u001b[0mpotential\u001b[0m \u001b[0mraises\u001b[0m\u001b[0;34m.\u001b[0m\u001b[0;34m\u001b[0m\u001b[0;34m\u001b[0m\u001b[0m\n\u001b[1;32m   1361\u001b[0m         \"\"\"\n\u001b[0;32m-> 1362\u001b[0;31m         self.handles = get_handle(\n\u001b[0m\u001b[1;32m   1363\u001b[0m             \u001b[0msrc\u001b[0m\u001b[0;34m,\u001b[0m\u001b[0;34m\u001b[0m\u001b[0;34m\u001b[0m\u001b[0m\n\u001b[1;32m   1364\u001b[0m             \u001b[0;34m\"r\"\u001b[0m\u001b[0;34m,\u001b[0m\u001b[0;34m\u001b[0m\u001b[0;34m\u001b[0m\u001b[0m\n",
      "\u001b[0;32m/opt/anaconda3/lib/python3.8/site-packages/pandas/io/common.py\u001b[0m in \u001b[0;36mget_handle\u001b[0;34m(path_or_buf, mode, encoding, compression, memory_map, is_text, errors, storage_options)\u001b[0m\n\u001b[1;32m    640\u001b[0m                 \u001b[0merrors\u001b[0m \u001b[0;34m=\u001b[0m \u001b[0;34m\"replace\"\u001b[0m\u001b[0;34m\u001b[0m\u001b[0;34m\u001b[0m\u001b[0m\n\u001b[1;32m    641\u001b[0m             \u001b[0;31m# Encoding\u001b[0m\u001b[0;34m\u001b[0m\u001b[0;34m\u001b[0m\u001b[0;34m\u001b[0m\u001b[0m\n\u001b[0;32m--> 642\u001b[0;31m             handle = open(\n\u001b[0m\u001b[1;32m    643\u001b[0m                 \u001b[0mhandle\u001b[0m\u001b[0;34m,\u001b[0m\u001b[0;34m\u001b[0m\u001b[0;34m\u001b[0m\u001b[0m\n\u001b[1;32m    644\u001b[0m                 \u001b[0mioargs\u001b[0m\u001b[0;34m.\u001b[0m\u001b[0mmode\u001b[0m\u001b[0;34m,\u001b[0m\u001b[0;34m\u001b[0m\u001b[0;34m\u001b[0m\u001b[0m\n",
      "\u001b[0;31mFileNotFoundError\u001b[0m: [Errno 2] No such file or directory: 'webmd1.csv'"
     ]
    }
   ],
   "metadata": {}
  },
  {
   "cell_type": "code",
   "execution_count": 9,
   "source": [
    "df.head()"
   ],
   "outputs": [
    {
     "output_type": "error",
     "ename": "NameError",
     "evalue": "name 'df' is not defined",
     "traceback": [
      "\u001b[0;31m---------------------------------------------------------------------------\u001b[0m",
      "\u001b[0;31mNameError\u001b[0m                                 Traceback (most recent call last)",
      "\u001b[0;32m<ipython-input-9-c42a15b2c7cf>\u001b[0m in \u001b[0;36m<module>\u001b[0;34m\u001b[0m\n\u001b[0;32m----> 1\u001b[0;31m \u001b[0mdf\u001b[0m\u001b[0;34m.\u001b[0m\u001b[0mhead\u001b[0m\u001b[0;34m(\u001b[0m\u001b[0;34m)\u001b[0m\u001b[0;34m\u001b[0m\u001b[0;34m\u001b[0m\u001b[0m\n\u001b[0m",
      "\u001b[0;31mNameError\u001b[0m: name 'df' is not defined"
     ]
    }
   ],
   "metadata": {}
  },
  {
   "cell_type": "markdown",
   "source": [
    "Maninpulating the Data"
   ],
   "metadata": {}
  },
  {
   "cell_type": "code",
   "execution_count": null,
   "source": [
    "hidecode"
   ],
   "outputs": [],
   "metadata": {}
  },
  {
   "cell_type": "code",
   "execution_count": null,
   "source": [
    "otc = df[df.Type == ' otc']\n",
    "cols = ['Type','Indication','Condition','Drug','BrandName','GenName','Use','HowtoUse','Precautions','AvoidUse',\\\n",
    "              'Allergies','Interactions','Sides','Effectiveness','EaseofUse','Satisfaction',\\\n",
    "              'Review','Form','Dosage','PkgCount','EstimatedPrice']\n",
    "otc = otc[cols]\n",
    "otc.rename(columns = {'Review':'Reviews'}, inplace=True) # rename to Reviews\n",
    "otc.reset_index(drop=True, inplace=True)"
   ],
   "outputs": [],
   "metadata": {}
  },
  {
   "cell_type": "code",
   "execution_count": null,
   "source": [
    "ind = otc.loc[(otc.Reviews == 'Be the first to review it') &\\\n",
    "        ((otc.Effectiveness != ' ') | (otc.EaseofUse != ' ') | (otc.Satisfaction != ' '))].index\n",
    "otc.loc[ind,'Reviews'] = 1 # fix rows with ratings but no reviews\n",
    "\n",
    "ind2 = otc.loc[otc.Reviews == 'Be the first to review it'].index\n",
    "otc.loc[ind2, 'Reviews'] = 0 # change rows with no reviews to value 0\n",
    "\n",
    "ind3 = otc.loc[(otc.Reviews != 0)&(otc.Reviews.str.contains('User Reviews'))].index\n",
    "otc.loc[ind3, 'Reviews'] = otc.loc[ind3].Reviews.str.replace('User Reviews', '') # remove text from reviews\n",
    "\n",
    "otc.Reviews = pd.to_numeric(otc.Reviews) # convert to numeric"
   ],
   "outputs": [],
   "metadata": {}
  },
  {
   "cell_type": "code",
   "execution_count": null,
   "source": [
    "otc.loc[otc.Reviews == 0,['Effectiveness','EaseofUse','Satisfaction']] = np.nan\n"
   ],
   "outputs": [],
   "metadata": {}
  },
  {
   "cell_type": "code",
   "execution_count": null,
   "source": [
    "otc.loc[otc.loc[otc.BrandName == ' '].index,'BrandName'] = ''\n",
    "otc.loc[otc.loc[otc.GenName == ' '].index, 'GenName'] = ''\n",
    "otc.loc[otc.loc[otc.Dosage == ' '].index, 'Dosage'] = ''\n",
    "otc.loc[otc.loc[otc.Use == ' '].index, 'Use'] = ''\n",
    "otc.loc[otc.loc[otc.HowtoUse == ' '].index, 'HowtoUse'] = ''\n",
    "otc.loc[otc.loc[otc.Precautions == ' '].index, 'Precautions'] = ''\n",
    "otc.loc[otc.loc[otc.Interactions == ' '].index, 'Interactions'] = ''\n",
    "otc.loc[otc.loc[otc.Sides == ' '].index, 'Sides'] = ''\n",
    "otc.loc[otc.loc[otc.Allergies == ' '].index, 'Allergies'] = ''\n",
    "otc.loc[otc.loc[otc.AvoidUse == ' '].index, 'AvoidUse'] = ''"
   ],
   "outputs": [],
   "metadata": {}
  },
  {
   "cell_type": "code",
   "execution_count": null,
   "source": [
    "otc.loc[otc.loc[(otc.Form == ' ') & (otc.PkgCount == ' ') & (otc.EstimatedPrice == ' ')].index,\\\n",
    "       ['Form','PkgCount','EstimatedPrice']] = np.nan"
   ],
   "outputs": [],
   "metadata": {}
  },
  {
   "cell_type": "code",
   "execution_count": null,
   "source": [
    "otc.Satisfaction = pd.to_numeric(otc.Satisfaction)\n",
    "otc.EaseofUse = pd.to_numeric(otc.EaseofUse)\n",
    "otc.Effectiveness = pd.to_numeric(otc.Effectiveness)\n",
    "otc.EstimatedPrice = pd.to_numeric(otc.EstimatedPrice)\n",
    "otc.PkgCount = pd.to_numeric(otc.PkgCount)\n",
    "otc = otc.assign(UnitPrice = otc.EstimatedPrice/otc.PkgCount)\n",
    "otc = otc.assign(Overall = (otc.Effectiveness+otc.EaseofUse+otc.Satisfaction)/3)"
   ],
   "outputs": [],
   "metadata": {}
  },
  {
   "cell_type": "code",
   "execution_count": null,
   "source": [
    "otc.dropna().sort_values('Drug').head()"
   ],
   "outputs": [],
   "metadata": {}
  },
  {
   "cell_type": "markdown",
   "source": [
    "DATA VISULIZATOIN "
   ],
   "metadata": {}
  },
  {
   "cell_type": "code",
   "execution_count": null,
   "source": [
    "hidecode"
   ],
   "outputs": [],
   "metadata": {}
  },
  {
   "cell_type": "code",
   "execution_count": null,
   "source": [
    "colFun = {'Drug':['size'],'Reviews':['max','median','sum'],\\\n",
    "                                'EaseofUse':['max','median'],'Satisfaction':['max','median'],\\\n",
    "                               'Effectiveness':['max','median'],'EstimatedPrice':['mean']}\n",
    "\n",
    "group = otc.groupby(['Condition']).agg(colFun)\n",
    "groupcols = ['Drug','Effectiveness','EaseofUse','Satisfaction','Reviews','EstimatedPrice']\n",
    "#group.loc[group.Drug.sort_values('size',ascending=False).index][groupcols]\n",
    "group1 = group.loc[group['Reviews'].sort_values('sum',ascending=False).index][groupcols]\n",
    "group1.head()"
   ],
   "outputs": [],
   "metadata": {}
  },
  {
   "cell_type": "markdown",
   "source": [
    "Forms of Drugs  "
   ],
   "metadata": {}
  },
  {
   "cell_type": "code",
   "execution_count": null,
   "source": [
    "pd.options.display.max_columns = 100"
   ],
   "outputs": [],
   "metadata": {}
  },
  {
   "cell_type": "code",
   "execution_count": null,
   "source": [
    "otc_form = otc[['Form','PkgCount','UnitPrice','EstimatedPrice','EaseofUse','Effectiveness','Satisfaction','Overall','Indication']]\n",
    "formind = otc_form.sort_values('Form').Form.value_counts().index[0:13] # create a list of top drug forms\n",
    "otc_form = otc_form.reset_index(drop=True).set_index('Form').loc[formind].reset_index() #select top \n",
    "\n",
    "forms = pd.DataFrame(otc.sort_values('Form').Form.value_counts()).rename(columns={'Form':'count'})\n",
    "forms = forms.assign(percentage = forms[['count']]/forms[['count']].sum())"
   ],
   "outputs": [],
   "metadata": {}
  },
  {
   "cell_type": "code",
   "execution_count": null,
   "source": [
    "sizes = [x*100 for x in forms['percentage'].tolist()[0:13]]\n",
    "labels = forms.index.tolist()[0:13] + ['other']\n",
    "fig = plt.figure(figsize=(8,8))\n",
    "pieWedgesCollection = plt.pie(sizes + [100 - sum(sizes)],labels=(labels),\n",
    "                              colors=(sns.color_palette(\"Set3\")+sns.color_palette(\"Set2\")+sns.color_palette(\"Set1\")),\n",
    "                              startangle=90,\n",
    "                              autopct='%1.1f%%',\n",
    "                              shadow=True,\n",
    "                              radius = 1.2,\n",
    "                              pctdistance=1.1, labeldistance=1.2)\n",
    "print 'Top %d out of 51 forms of drugs makes up of %s all OTC drugs' %(len(sizes),'{:.1%}'.format(forms.loc[formind]['percentage'].sum()))\n",
    "Top 13 out of 51 forms of drugs makes up of 95.1% all OTC drugs"
   ],
   "outputs": [],
   "metadata": {}
  },
  {
   "cell_type": "code",
   "execution_count": null,
   "source": [
    "def formplot(x):\n",
    "    otc_ = otc_form\n",
    "    return otc_.groupby('Form')[[x]].agg('mean').sort_values(x,ascending=False).plot.barh(figsize=(9,5),\n",
    "                                                                                         color='pink').legend(loc='upper right')\n",
    "interact(formplot,\n",
    "        x= widgets.Dropdown(\n",
    "        options=['PkgCount','EstimatedPrice','EaseofUse','Effectiveness','Satisfaction','UnitPrice'],\n",
    "        value='EstimatedPrice',\n",
    "        description='Form vs:',\n",
    "        disabled=False,\n",
    "        button_style='info')\n",
    "        )\n",
    "<matplotlib.legend.Legend at 0x10fca908>\n",
    "<function __main__.formplot>"
   ],
   "outputs": [],
   "metadata": {}
  },
  {
   "cell_type": "code",
   "execution_count": null,
   "source": [
    "plt.figure(figsize=(9,5))\n",
    "sns.boxplot(x='Form',y='Effectiveness', data=otc_form)\n",
    "\n",
    "grps = pd.unique(otc_form.Form.values)\n",
    "d_data = {grp:otc_form.dropna()['Effectiveness'][otc_form.Form == grp] \\\n",
    "    for grp in pd.unique(otc_form.Form.values)}\n",
    " \n",
    "k = len(pd.unique(otc_form.Form))  # number of conditions\n",
    "N = len(otc_form.values)  # conditions times participants\n",
    "n = otc_form.groupby('Form').size()[0] #Participants in each condition\n",
    "print 'Null Hypothesis: The mean effectiveness are equal across all forms of drugs'\n",
    "print stats.bartlett(d_data['tablet'],d_data['liquid'],d_data['capsule'],d_data['cream'],d_data['tab'],d_data['drops'],\n",
    "                     d_data['lotion'],d_data['oral'],d_data['solution'],d_data['syrup'],d_data['powd'],d_data['spray'],\n",
    "                     d_data['oint'])\n",
    "print stats.f_oneway(d_data['tablet'],d_data['liquid'],d_data['capsule'],d_data['cream'],d_data['tab'],d_data['drops'],\n",
    "                     d_data['lotion'],d_data['oral'],d_data['solution'],d_data['syrup'],d_data['powd'],d_data['spray'],\n",
    "                     d_data['oint']) \n",
    "print '\\nThe Bartlett\\'s Test tells us our variances are not the same, which invalidates the ANOVA test\\n'\n",
    "print 'ANOVA returns a pvalue of ~ 1.6e-13, but we cannot accept the results of this test\\n'\n",
    "print '\\nNull Hypothesis: The median effectiveness of all forms of drugs are equal\\n'\n",
    "print stats.kruskal(d_data['tablet'],d_data['liquid'],d_data['capsule'],d_data['cream'],d_data['tab'],d_data['drops'],\n",
    "                     d_data['lotion'],d_data['oral'],d_data['solution'],d_data['syrup'],d_data['powd'],d_data['spray'],\n",
    "                     d_data['oint'])\n",
    "print '\\nUsing a Kruskal test, we reject the null hypothesis in favor of the alternative hypothesis (unequal medians)\\n'\n",
    "Null Hypothesis: The mean effectiveness are equal across all forms of drugs\n",
    "BartlettResult(statistic=150.35231224453142, pvalue=4.8094147391152934e-26)\n",
    "F_onewayResult(statistic=7.3077598764218541, pvalue=1.6657279383534421e-13)\n",
    "\n",
    "The Bartlett's Test tells us our variances are not the same, which invalidates the ANOVA test\n",
    "\n",
    "ANOVA returns a pvalue of ~ 1.6e-13, but we cannot accept the results of this test\n",
    "\n",
    "\n",
    "Null Hypothesis: The median effectiveness of all forms of drugs are equal\n",
    "\n",
    "KruskalResult(statistic=83.854120137436084, pvalue=7.5552550543296734e-13)\n",
    "\n",
    "Using a Kruskal test, we reject the null hypothesis in favor of the alternative hypothesis (unequal medians)"
   ],
   "outputs": [],
   "metadata": {}
  },
  {
   "cell_type": "code",
   "execution_count": null,
   "source": [
    "otclog = otc_form[['Form','Indication','EstimatedPrice']]\n",
    "otclog.loc[:,'EstimatedPrice'] = np.log(otclog.EstimatedPrice)\n",
    "C:\\Users\\jason\\Anaconda2\\lib\\site-packages\\pandas\\core\\indexing.py:465: SettingWithCopyWarning: \n",
    "A value is trying to be set on a copy of a slice from a DataFrame.\n",
    "Try using .loc[row_indexer,col_indexer] = value instead\n",
    "\n",
    "See the caveats in the documentation: http://pandas.pydata.org/pandas-docs/stable/indexing.html#indexing-view-versus-copy\n",
    "  self.obj[item] = s"
   ],
   "outputs": [],
   "metadata": {}
  },
  {
   "cell_type": "code",
   "execution_count": null,
   "source": [
    "plt.figure(figsize=(9,5))\n",
    "sns.boxplot(x='Form',y='EstimatedPrice', data=otclog)\n",
    "<matplotlib.axes._subplots.AxesSubplot at 0x112b1ef0>"
   ],
   "outputs": [],
   "metadata": {}
  },
  {
   "cell_type": "markdown",
   "source": [
    "Brand Name vs Generic"
   ],
   "metadata": {}
  },
  {
   "cell_type": "code",
   "execution_count": null,
   "source": [
    "plt.figure(figsize=(9,5))\n",
    "sns.boxplot(x='Indication',y='Effectiveness', data=otc_form)\n",
    "<matplotlib.axes._subplots.AxesSubplot at 0x116382e8>"
   ],
   "outputs": [],
   "metadata": {}
  },
  {
   "cell_type": "code",
   "execution_count": null,
   "source": [
    "plt.figure(figsize=(9,5))\n",
    "sns.boxplot(x='Indication',y='EstimatedPrice', data=otclog)\n",
    "<matplotlib.axes._subplots.AxesSubplot at 0x1110b2b0>"
   ],
   "outputs": [],
   "metadata": {}
  },
  {
   "cell_type": "markdown",
   "source": [
    "Ease of Use vs Effectiveness to User Satisfaction"
   ],
   "metadata": {}
  },
  {
   "cell_type": "code",
   "execution_count": null,
   "source": [
    "def jointplot(x,color='g'):\n",
    "    otcjoint = otc[['EaseofUse', 'Satisfaction', 'Effectiveness', 'Reviews', 'EstimatedPrice']]\n",
    "    otcjoint = otcjoint[otcjoint.apply(lambda x: np.abs(x - x.mean()) / x.std() < 3).all(axis=1)]\n",
    "    return sns.jointplot(x, otc.Satisfaction,color=color,joint_kws={'alpha':0.1})\n",
    "plt.figure(figsize=(9,5))\n",
    "\n",
    "jointplot(otc.EaseofUse,'r')\n",
    "jointplot(otc.Effectiveness)\n",
    "<seaborn.axisgrid.JointGrid at 0x10b20208>\n",
    "<matplotlib.figure.Figure at 0x10b2b550>"
   ],
   "outputs": [],
   "metadata": {}
  },
  {
   "cell_type": "code",
   "execution_count": null,
   "source": [
    "otc[['EaseofUse','Effectiveness','Satisfaction','Overall']].corr()\n"
   ],
   "outputs": [],
   "metadata": {}
  },
  {
   "cell_type": "markdown",
   "source": [
    "Other Plots\n",
    "\n",
    "Reviews"
   ],
   "metadata": {}
  },
  {
   "cell_type": "code",
   "execution_count": null,
   "source": [
    "def Histo_Reviews(x,y):\n",
    "    otchist = otc[['Reviews']].dropna()\n",
    "    otchist.loc['Reviews'] = np.log(otchist.Reviews)\n",
    "    otchist = otchist.loc[(otchist.Reviews >= x)&(otchist.Reviews <= y)]\n",
    "    otchist = otchist[otchist.apply(lambda x: np.abs(x - x.mean()) / x.std() < 3).all(axis=1)]\n",
    "    plt.figure(figsize=(9,5))\n",
    "    return sns.distplot(otchist.Reviews,color='y')\n",
    "\n",
    "# Histo_Reviews()\n",
    "interact(Histo_Reviews,\n",
    "    x= widgets.IntSlider(\n",
    "    min=0,\n",
    "    value = 5,\n",
    "    step = 10,\n",
    "    max=200,\n",
    "    description='Minimum Reviews:'),\n",
    "    y= widgets.IntSlider(\n",
    "    min=0,\n",
    "    value = 200,\n",
    "    step = 10,\n",
    "    max=390,\n",
    "    description='Max Reviews:')\n",
    "         )\n",
    "<matplotlib.axes._subplots.AxesSubplot at 0x13224208>\n",
    "<function __main__.Histo_Reviews>"
   ],
   "outputs": [],
   "metadata": {}
  },
  {
   "cell_type": "markdown",
   "source": [
    "Reviews vs Price"
   ],
   "metadata": {}
  },
  {
   "cell_type": "code",
   "execution_count": null,
   "source": [
    "def Reviews_vs_Price(x,y):\n",
    "    otcscatter = otc[['Reviews','EstimatedPrice']]\n",
    "    otcscatter = otcscatter.loc[(otcscatter.Reviews > x[0])&(otcscatter.Reviews < x[1])&\n",
    "                                (otcscatter.EstimatedPrice > y[0])&(otcscatter.EstimatedPrice < y[1])]\n",
    "    otcscatter = otcscatter[otcscatter.apply(lambda x: np.abs(x - x.mean()) / x.std() < 3).all(axis=1)]\n",
    "    return otcscatter.plot.scatter('Reviews','EstimatedPrice',figsize=(9,5), color = 'blue')\n",
    "   \n",
    "interact(Reviews_vs_Price,\n",
    "    x= widgets.IntRangeSlider(\n",
    "    min=0,\n",
    "    value = [0,390],\n",
    "    step = 10,\n",
    "    max=390,\n",
    "    description='Reviews:'),\n",
    "    y= widgets.IntRangeSlider(\n",
    "    min=0,\n",
    "    value = [0,150],\n",
    "    step = 5,\n",
    "    max=150,\n",
    "    description='Price:')\n",
    "        )    \n",
    "<matplotlib.axes._subplots.AxesSubplot at 0x11d5b5f8>\n",
    "<function __main__.Reviews_vs_Price>"
   ],
   "outputs": [],
   "metadata": {}
  },
  {
   "cell_type": "markdown",
   "source": [
    "All Continous Vars"
   ],
   "metadata": {}
  },
  {
   "cell_type": "code",
   "execution_count": null,
   "source": [
    "g = sns.PairGrid(otc[['Effectiveness','EaseofUse','Satisfaction','Reviews','EstimatedPrice','UnitPrice']])\n",
    "g.map(plt.scatter)\n",
    "# g.map_lower(plt.kdeplot)\n",
    "# g.map_upper(plt.hist)\n",
    "<seaborn.axisgrid.PairGrid at 0x131eb320>"
   ],
   "outputs": [],
   "metadata": {}
  },
  {
   "cell_type": "markdown",
   "source": [
    "Robot Pharamist OTC Drug Finder\n"
   ],
   "metadata": {}
  },
  {
   "cell_type": "code",
   "execution_count": null,
   "source": [
    "hidecode"
   ],
   "outputs": [],
   "metadata": {}
  },
  {
   "cell_type": "code",
   "execution_count": null,
   "source": [
    "\n",
    "#['Use','HowtoUse','Precautions','AvoidUse','Allergies','Interactions','Sides''BrandName','GenName',] # columns removed\n",
    "def search_conditions(string, tg2, tg3, age, dd1, tg1, na, conds, form, count, revrange, currmed, health):\n",
    "    search = ['Indication','Condition','Drug',\\\n",
    "              'Effectiveness','EaseofUse','Satisfaction',\\\n",
    "              'Reviews','Form','PkgCount','EstimatedPrice']\n",
    "    index = []\n",
    "    a1index = []\n",
    "    df = otc\n",
    "    if na:\n",
    "        df = df.loc[(df.EaseofUse >= 0)&(df.EstimatedPrice >= 0)].reset_index(drop=True)\n",
    "    \n",
    "    if revrange:    \n",
    "        df = df.loc[(df.Reviews >= revrange)].reset_index(drop=True)\n",
    "    \n",
    "    if form != 'All':\n",
    "        df = df.loc[df.Form == form].reset_index(drop=True)\n",
    "        \n",
    "    if conds != '':\n",
    "        conds = '(' + ')|('.join(conds) + ')'\n",
    "    for i in range(len(df)):\n",
    "        if re.search(conds.lower(), df.Allergies[i].lower()):\n",
    "            a1index += [i]\n",
    "        else:\n",
    "            continue\n",
    "    df = df[~df.index.isin(a1index)].reset_index(drop=True)\n",
    "                    \n",
    "    if tg2:\n",
    "        for i in range(len(df)):\n",
    "            if re.search('^'+string.lower()+'$', df.Condition[i].lower()):\n",
    "                index += [i]\n",
    "            else:\n",
    "                continue\n",
    "        return df[search].loc[index].sort_values(dd1, ascending=tg1).head(count).set_index('Drug')\n",
    "    \n",
    "    if tg3:\n",
    "        regex = '^(?=.*\\\\b'+'\\\\b)(?=.*\\\\b'.join(string.lower().split())+'\\\\b).*$'\n",
    "        for i in range(len(df)):\n",
    "            if re.search(regex, df.Condition[i].lower()):\n",
    "                index += [i]\n",
    "            else:\n",
    "                continue\n",
    "        return df[search].loc[index].sort_values(dd1, ascending=tg1).head(count).set_index('Drug')\n",
    "    \n",
    "    else:\n",
    "        for i in range(len(df)):\n",
    "            if re.search(string.lower(), df.Condition[i].lower()):\n",
    "                index += [i]\n",
    "            else:\n",
    "                continue\n",
    "        return df[search].loc[index].sort_values(dd1, ascending=tg1).head(count).set_index('Drug') \n",
    "    \n",
    "# search_conditions('cough',False,'False','','Effectiveness',False,True,'All',5) # for debugging only"
   ],
   "outputs": [],
   "metadata": {}
  },
  {
   "cell_type": "markdown",
   "source": [
    "Widget Creation"
   ],
   "metadata": {}
  },
  {
   "cell_type": "code",
   "execution_count": null,
   "source": [
    "allergstr = []\n",
    "reg = re.compile(r\"[\\d+\\w+]{2,}\")\n",
    "for i in range(len(otc.Allergies)):\n",
    "    allergstr += nltk.word_tokenize(otc.Allergies[i])\n",
    "allergstr = [x for x in list(set(allergstr)) if reg.match(x)]"
   ],
   "outputs": [],
   "metadata": {}
  },
  {
   "cell_type": "code",
   "execution_count": null,
   "source": [
    "allergstr = []\n",
    "reg = re.compile(r\"[\\d+\\w+]{2,}\")\n",
    "for i in range(len(otc.Allergies)):\n",
    "    allergstr += nltk.word_tokenize(otc.Allergies[i])\n",
    "allergstr = [x for x in list(set(allergstr)) if reg.match(x)]\n",
    "tg1 = widgets.ToggleButton(\n",
    "    value=False,\n",
    "    description='Ascending/Descending',\n",
    "    disabled=False,\n",
    "    button_style='success', # 'success', 'info', 'warning', 'danger' or ''\n",
    "    tooltip='Description',\n",
    "    icon='check'\n",
    ")\n",
    "\n",
    "tg2 = widgets.ToggleButton(\n",
    "    value=False,\n",
    "    description='Match Exact',\n",
    "    disabled=False,\n",
    "    button_style='warning', # 'success', 'info', 'warning', 'danger' or ''\n",
    "    tooltip='Description',\n",
    "    icon='check'\n",
    ")\n",
    "\n",
    "tg3 = widgets.ToggleButton(\n",
    "    value=False,\n",
    "    description='Match Term',\n",
    "    disabled=False,\n",
    "    button_style='success', # 'success', 'info', 'warning', 'danger' or ''\n",
    "    tooltip='Description',\n",
    "    icon='check'\n",
    ")\n",
    "\n",
    "dd1 = widgets.Dropdown(\n",
    "    options={'Estimated Price': 'EstimatedPrice', 'Reviews': 'Reviews', 'Ease of Use': 'EaseofUse',\\\n",
    "            'Satisfaction': 'Satisfaction', 'Effectiveness': 'Effectiveness'},\n",
    "    value='Reviews',\n",
    "    description='Sort by:',\n",
    "    disabled=False,\n",
    "    button_style='info' # 'success', 'info', 'warning', 'danger' or ''\n",
    ")\n",
    "\n",
    "str1 = widgets.Text(\n",
    "    value='Cough',\n",
    "    placeholder='',\n",
    "    description='Search:',\n",
    "    disabled=False\n",
    ")\n",
    "\n",
    "int1 = widgets.IntSlider(\n",
    "    value = 5,\n",
    "    step = 1,\n",
    "    min = 1,\n",
    "    max = 10,\n",
    "    description = 'Show:'\n",
    ")\n",
    "\n",
    "age1 = widgets.IntText(\n",
    "    value = 35,\n",
    "    step = 1,\n",
    "    min = 1,\n",
    "    max = 100,\n",
    "    description = 'Age:'\n",
    ")\n",
    "\n",
    "na1 = widgets.ToggleButton(\n",
    "    value=True,\n",
    "    description='Remove NA',\n",
    "    disabled=False,\n",
    "    button_style='warning', # 'success', 'info', 'warning', 'danger' or ''\n",
    "    tooltip='Description',\n",
    "    icon='check'\n",
    ")\n",
    "\n",
    "for1 = widgets.Dropdown(\n",
    "    options=['All'] + otc.Form.unique().tolist(),\n",
    "    value='All',\n",
    "    description='Form:',\n",
    "    disabled=False,\n",
    "    button_style='info' # 'success', 'info', 'warning', 'danger' or ''\n",
    ")\n",
    "\n",
    "revrange = widgets.IntSlider(\n",
    "    value= 5,\n",
    "    min=0,\n",
    "    max= 50,\n",
    "    step=5,\n",
    "    description='Minimum Reviews:',\n",
    "    disabled=False,\n",
    "    continuous_update=False,\n",
    "    orientation='horizontal',\n",
    "    readout=True,\n",
    "    readout_format='i',\n",
    "    slider_color='white',\n",
    "    color='black'\n",
    ")\n",
    "\n",
    "a= widgets.SelectMultiple(\n",
    "    options=['NONE'] +sorted(allergstr),\n",
    "    value=['NONE'],\n",
    "    description='Allergies:',\n",
    "    disabled=False\n",
    ")\n",
    "\n",
    "currmed = widgets.Text(\n",
    "    value='',\n",
    "    placeholder='',\n",
    "    description='Current Meds:',\n",
    "    disabled=False\n",
    ")\n",
    "\n",
    "health = widgets.Text(\n",
    "    value='',\n",
    "    placeholder='',\n",
    "    description='Known Illnesses:',\n",
    "    disabled=False\n",
    ")"
   ],
   "outputs": [],
   "metadata": {}
  },
  {
   "cell_type": "markdown",
   "source": [
    "Drug Finder"
   ],
   "metadata": {}
  },
  {
   "cell_type": "code",
   "execution_count": null,
   "source": [
    "interactive(search_conditions,\n",
    "            string = str1,\n",
    "            tg1 = tg1,\n",
    "            tg3 = tg3,\n",
    "            conds = a,\n",
    "            age = age1,\n",
    "            dd1 = dd1,\n",
    "            na = na1,\n",
    "            tg2 = tg2,\n",
    "            form = for1,\n",
    "            count = int1,\n",
    "            revrange = revrange,\n",
    "            currmed = currmed,\n",
    "            health = health,\n",
    "            __manual=False)"
   ],
   "outputs": [],
   "metadata": {}
  },
  {
   "cell_type": "code",
   "execution_count": null,
   "source": [
    "hidecode"
   ],
   "outputs": [],
   "metadata": {}
  }
 ],
 "metadata": {
  "orig_nbformat": 4,
  "language_info": {
   "name": "python",
   "version": "3.8.8",
   "mimetype": "text/x-python",
   "codemirror_mode": {
    "name": "ipython",
    "version": 3
   },
   "pygments_lexer": "ipython3",
   "nbconvert_exporter": "python",
   "file_extension": ".py"
  },
  "kernelspec": {
   "name": "python3",
   "display_name": "Python 3.8.8 64-bit ('base': conda)"
  },
  "interpreter": {
   "hash": "dca0ade3e726a953b501b15e8e990130d2b7799f14cfd9f4271676035ebe5511"
  }
 },
 "nbformat": 4,
 "nbformat_minor": 2
}